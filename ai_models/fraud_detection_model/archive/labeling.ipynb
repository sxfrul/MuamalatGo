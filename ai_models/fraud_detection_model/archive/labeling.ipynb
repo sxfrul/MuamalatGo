{
 "cells": [
  {
   "cell_type": "code",
   "execution_count": 9,
   "id": "5925b58d",
   "metadata": {},
   "outputs": [],
   "source": [
    "import pandas as pd\n",
    "import numpy as np\n",
    "from sklearn.preprocessing import StandardScaler, OrdinalEncoder\n",
    "from sklearn.ensemble import IsolationForest\n",
    "from sklearn.model_selection import train_test_split\n",
    "from sklearn.pipeline import Pipeline\n",
    "import shap\n",
    "import matplotlib.pyplot as plt\n",
    "import xgboost as xgb\n",
    "\n",
    "df = pd.read_csv('synthesized_donor_data.csv')"
   ]
  },
  {
   "cell_type": "code",
   "execution_count": 10,
   "id": "0286dc37",
   "metadata": {},
   "outputs": [
    {
     "name": "stdout",
     "output_type": "stream",
     "text": [
      "<class 'pandas.core.frame.DataFrame'>\n",
      "RangeIndex: 15000 entries, 0 to 14999\n",
      "Data columns (total 5 columns):\n",
      " #   Column                                    Non-Null Count  Dtype  \n",
      "---  ------                                    --------------  -----  \n",
      " 0   Nama Pemohon/Institusi                    15000 non-null  object \n",
      " 1   Emel                                      15000 non-null  object \n",
      " 2   No. K/P (baru)/Polis/Tentera/No. Pasport  15000 non-null  object \n",
      " 3   No. Telefon Bimbit                        15000 non-null  object \n",
      " 4   Jumlah Pendapatan                         15000 non-null  float64\n",
      "dtypes: float64(1), object(4)\n",
      "memory usage: 586.1+ KB\n"
     ]
    }
   ],
   "source": [
    "df.info()"
   ]
  },
  {
   "cell_type": "code",
   "execution_count": 11,
   "id": "60c24098",
   "metadata": {},
   "outputs": [
    {
     "data": {
      "text/html": [
       "<div>\n",
       "<style scoped>\n",
       "    .dataframe tbody tr th:only-of-type {\n",
       "        vertical-align: middle;\n",
       "    }\n",
       "\n",
       "    .dataframe tbody tr th {\n",
       "        vertical-align: top;\n",
       "    }\n",
       "\n",
       "    .dataframe thead th {\n",
       "        text-align: right;\n",
       "    }\n",
       "</style>\n",
       "<table border=\"1\" class=\"dataframe\">\n",
       "  <thead>\n",
       "    <tr style=\"text-align: right;\">\n",
       "      <th></th>\n",
       "      <th>Nama Pemohon/Institusi</th>\n",
       "      <th>Emel</th>\n",
       "      <th>No. K/P (baru)/Polis/Tentera/No. Pasport</th>\n",
       "      <th>No. Telefon Bimbit</th>\n",
       "      <th>Jumlah Pendapatan</th>\n",
       "    </tr>\n",
       "  </thead>\n",
       "  <tbody>\n",
       "    <tr>\n",
       "      <th>0</th>\n",
       "      <td>Yap bin Wei Jie</td>\n",
       "      <td>yap.wei.jie6@msn.com</td>\n",
       "      <td>890801-31-8371</td>\n",
       "      <td>012-0758418</td>\n",
       "      <td>7991.26</td>\n",
       "    </tr>\n",
       "    <tr>\n",
       "      <th>1</th>\n",
       "      <td>Fatimah binti Ali</td>\n",
       "      <td>fatimah.ali47@yahoo.com</td>\n",
       "      <td>910803-09-4788</td>\n",
       "      <td>014-2273286</td>\n",
       "      <td>7418.29</td>\n",
       "    </tr>\n",
       "    <tr>\n",
       "      <th>2</th>\n",
       "      <td>Arun bin Suresh</td>\n",
       "      <td>arun.suresh28@msn.com</td>\n",
       "      <td>910828-52-5695</td>\n",
       "      <td>010-8559286</td>\n",
       "      <td>9027.72</td>\n",
       "    </tr>\n",
       "    <tr>\n",
       "      <th>3</th>\n",
       "      <td>Khairul bin Ismail</td>\n",
       "      <td>khairul.ismail21@outlook.my</td>\n",
       "      <td>790204-07-6937</td>\n",
       "      <td>019-57099785</td>\n",
       "      <td>9734.97</td>\n",
       "    </tr>\n",
       "    <tr>\n",
       "      <th>4</th>\n",
       "      <td>Sharifah binti Ahmad</td>\n",
       "      <td>sharifah.ahmad29@hotmail.com</td>\n",
       "      <td>620417-51-7528</td>\n",
       "      <td>018-25342147</td>\n",
       "      <td>3225.15</td>\n",
       "    </tr>\n",
       "  </tbody>\n",
       "</table>\n",
       "</div>"
      ],
      "text/plain": [
       "  Nama Pemohon/Institusi                          Emel  \\\n",
       "0        Yap bin Wei Jie          yap.wei.jie6@msn.com   \n",
       "1      Fatimah binti Ali       fatimah.ali47@yahoo.com   \n",
       "2        Arun bin Suresh         arun.suresh28@msn.com   \n",
       "3     Khairul bin Ismail   khairul.ismail21@outlook.my   \n",
       "4   Sharifah binti Ahmad  sharifah.ahmad29@hotmail.com   \n",
       "\n",
       "  No. K/P (baru)/Polis/Tentera/No. Pasport No. Telefon Bimbit  \\\n",
       "0                           890801-31-8371        012-0758418   \n",
       "1                           910803-09-4788        014-2273286   \n",
       "2                           910828-52-5695        010-8559286   \n",
       "3                           790204-07-6937       019-57099785   \n",
       "4                           620417-51-7528       018-25342147   \n",
       "\n",
       "   Jumlah Pendapatan  \n",
       "0            7991.26  \n",
       "1            7418.29  \n",
       "2            9027.72  \n",
       "3            9734.97  \n",
       "4            3225.15  "
      ]
     },
     "execution_count": 11,
     "metadata": {},
     "output_type": "execute_result"
    }
   ],
   "source": [
    "df.head()"
   ]
  },
  {
   "cell_type": "code",
   "execution_count": 4,
   "id": "b96bfb9c",
   "metadata": {},
   "outputs": [
    {
     "name": "stdout",
     "output_type": "stream",
     "text": [
      "      No. K/P (baru)/Polis/Tentera/No. Pasport  \\\n",
      "0                               621211-55-6506   \n",
      "1                               780813-48-6819   \n",
      "2                               670221-54-1335   \n",
      "3                               980221-14-6270   \n",
      "4                               641212-56-7074   \n",
      "...                                        ...   \n",
      "14995                           830522-39-7770   \n",
      "14996                           050414-02-5406   \n",
      "14997                           690529-15-2690   \n",
      "14998                           670406-41-5316   \n",
      "14999                           751112-34-3119   \n",
      "\n",
      "                                  Emel  is_fraud  \n",
      "0            devi.ganesh55@hotmail.com         0  \n",
      "1              lee.jia.hao16@yahoo.com         1  \n",
      "2           abdullah.khairul54@msn.com         0  \n",
      "3      noraini..abdullah17@hotmail.com         1  \n",
      "4              fatimah.hafiz58@msn.com         0  \n",
      "...                                ...       ...  \n",
      "14995        goh.pei.shan17@outlook.my         1  \n",
      "14996       sharifah.hafiz90@yahoo.com         0  \n",
      "14997          nur.razak87@hotmail.com         0  \n",
      "14998          nur..abdullah15@msn.com         1  \n",
      "14999    muhammad.abdullah25@gmail.com         1  \n",
      "\n",
      "[15000 rows x 3 columns]\n"
     ]
    }
   ],
   "source": [
    "import re\n",
    "import json\n",
    "\n",
    "# Function to validate email format\n",
    "def is_valid_email(email):\n",
    "    # Basic email validation regex\n",
    "    regex = r'^[a-zA-Z0-9._%+-]+@[a-zA-Z0-9.-]+\\.[a-zA-Z]{2,}$'\n",
    "    return re.match(regex, email) is not None\n",
    "\n",
    "# Function to calculate total expenditure from JSON string\n",
    "def calculate_total_expenditure(expense_json):\n",
    "    try:\n",
    "        expenses = json.loads(expense_json)  # Parse the JSON string\n",
    "        total = sum(expenses.values())  # Sum all expense categories\n",
    "        return total\n",
    "    except (json.JSONDecodeError, TypeError):\n",
    "        return 0  # Return 0 if there's an error in parsing\n",
    "\n",
    "# Function to calculate total income from JSON string\n",
    "def calculate_total_income(income_json):\n",
    "    try:\n",
    "        incomes = json.loads(income_json)  # Parse the JSON string\n",
    "        total = sum(incomes.values())  # Sum all income sources\n",
    "        return total\n",
    "    except (json.JSONDecodeError, TypeError):\n",
    "        return 0  # Return 0 if there's an error in parsing\n",
    "\n",
    "\n",
    "# Function to check for multiple applications (example implementation)\n",
    "def has_multiple_applications(id_number):\n",
    "    # Check if the applicant ID appears more than once (mock implementation)\n",
    "    return df['No. K/P (baru)/Polis/Tentera/No. Pasport'].value_counts().get(id_number, 0) > 1\n",
    "\n",
    "# Function to label fraud based on the defined rules\n",
    "def label_fraud(row):\n",
    "    # Rule 1: Missing or invalid identification\n",
    "    if row['No. K/P (baru)/Polis/Tentera/No. Pasport'] == '':\n",
    "        return 1  # Fraud: Missing ID\n",
    "    if row['Emel'] == '' or not is_valid_email(row['Emel']):\n",
    "        return 1  # Fraud: Invalid email\n",
    "\n",
    "    if row['Age'] < 18 and row['Pekerjaan'] != 'Tidak Bekerja':\n",
    "        return 1  # Fraud: Underage working\n",
    "\n",
    "    # Rule 3: Financial discrepancies\n",
    "    total_expenditure = calculate_total_expenditure(row['Perbelanjaan Bulanan'])\n",
    "    total_income = calculate_total_income(row['Sumber Pendapatan Bulanan'])\n",
    "    \n",
    "    if total_expenditure > total_income:\n",
    "        return 1  # Fraud: High expenditure with income source\n",
    "\n",
    "    # Rule 4: Behavioral indicators\n",
    "    if row['Days Since'] < 30 and has_multiple_applications(row['No. K/P (baru)/Polis/Tentera/No. Pasport']):\n",
    "        return 1  # Fraud: Frequent applications\n",
    "\n",
    "    # Rule 5: Relationship to staff\n",
    "    if row['Hubungan kekeluargaan dengan kakitangan LZS?'] == 'YA' and row['Nama Kakitangan'] == '':\n",
    "        return 1  # Fraud: Close relationship without staff name\n",
    "\n",
    "    # If no fraud indicators are found\n",
    "    return 0  # Not fraud\n",
    "\n",
    "# Apply the labeling function to the DataFrame\n",
    "df['is_fraud'] = df.apply(label_fraud, axis=1)\n",
    "\n",
    "# Display the DataFrame with the fraud labels\n",
    "print(df[['No. K/P (baru)/Polis/Tentera/No. Pasport', 'Emel', 'is_fraud']])"
   ]
  },
  {
   "cell_type": "code",
   "execution_count": 5,
   "id": "534728ec",
   "metadata": {},
   "outputs": [
    {
     "data": {
      "text/plain": [
       "is_fraud\n",
       "0    10048\n",
       "1     4952\n",
       "Name: count, dtype: int64"
      ]
     },
     "execution_count": 5,
     "metadata": {},
     "output_type": "execute_result"
    }
   ],
   "source": [
    "df[\"is_fraud\"].value_counts()"
   ]
  },
  {
   "cell_type": "code",
   "execution_count": 7,
   "id": "9fce9613",
   "metadata": {},
   "outputs": [
    {
     "data": {
      "text/plain": [
       "Maklumat Isi Rumah\n",
       "[{\"Nama Penuh\": \"Goh bin Wei Jie\", \"No. Kad Pengenalan/Sijil Kelahiran\": \"030423-43-2975\", \"Hubungan\": \"Adik\", \"Umur\": 21, \"Status\": \"IPT/Kolej\", \"Kesihatan\": \"Sihat\", \"Pendapatan Kasar (RM)\": 0.0, \"Pendapatan Bersih (RM)\": 0.0}, {\"Nama Penuh\": \"Lim bin Wei Jie\", \"No. Kad Pengenalan/Sijil Kelahiran\": \"720907-03-4951\", \"Hubungan\": \"Anak\", \"Umur\": 52, \"Status\": \"Tidak Bekerja\", \"Kesihatan\": \"Sihat\", \"Pendapatan Kasar (RM)\": 0.0, \"Pendapatan Bersih (RM)\": 0.0}, {\"Nama Penuh\": \"Khairul bin Syazwan\", \"No. Kad Pengenalan/Sijil Kelahiran\": \"040202-37-2105\", \"Hubungan\": \"Tiada Kaitan\", \"Umur\": 21, \"Status\": \"IPT/Kolej\", \"Kesihatan\": \"Sihat\", \"Pendapatan Kasar (RM)\": 0.0, \"Pendapatan Bersih (RM)\": 0.0}, {\"Nama Penuh\": \"Abdullah bin Razak\", \"No. Kad Pengenalan/Sijil Kelahiran\": \"790917-43-1497\", \"Hubungan\": \"Datuk\", \"Umur\": 45, \"Status\": \"Tidak Bekerja\", \"Kesihatan\": \"Sihat\", \"Pendapatan Kasar (RM)\": 0.0, \"Pendapatan Bersih (RM)\": 0.0}, {\"Nama Penuh\": \"Tan bin Wei Lun\", \"No. Kad Pengenalan/Sijil Kelahiran\": \"060711-36-5553\", \"Hubungan\": \"Kakak\", \"Umur\": 18, \"Status\": \"IPT/Kolej\", \"Kesihatan\": \"Sakit/Cacat\", \"Pendapatan Kasar (RM)\": 0.0, \"Pendapatan Bersih (RM)\": 0.0}]                                  1\n",
       "[{\"Nama Penuh\": \"Yap binti Yee Von\", \"No. Kad Pengenalan/Sijil Kelahiran\": \"090814-05-2014\", \"Hubungan\": \"Nenek\", \"Umur\": 15, \"Status\": \"Sekolah Rendah/Menengah\", \"Kesihatan\": \"Sihat\", \"Pendapatan Kasar (RM)\": 0.0, \"Pendapatan Bersih (RM)\": 0.0}, {\"Nama Penuh\": \"Nur binti Khairul\", \"No. Kad Pengenalan/Sijil Kelahiran\": \"730424-29-4404\", \"Hubungan\": \"Ibu\", \"Umur\": 51, \"Status\": \"Bekerja\", \"Kesihatan\": \"Sihat\", \"Pendapatan Kasar (RM)\": 1367.63, \"Pendapatan Bersih (RM)\": 1231.56}, {\"Nama Penuh\": \"Aishah binti Singh\", \"No. Kad Pengenalan/Sijil Kelahiran\": \"SB660991\", \"Hubungan\": \"Suami\", \"Umur\": 4, \"Status\": \"Pra-Sekolah/Taska\", \"Kesihatan\": \"Sihat\", \"Pendapatan Kasar (RM)\": 0.0, \"Pendapatan Bersih (RM)\": 0.0}, {\"Nama Penuh\": \"Farah binti Ismail\", \"No. Kad Pengenalan/Sijil Kelahiran\": \"120104-35-3234\", \"Hubungan\": \"Nenek\", \"Umur\": 13, \"Status\": \"Sekolah Rendah/Menengah\", \"Kesihatan\": \"Sihat\", \"Pendapatan Kasar (RM)\": 0.0, \"Pendapatan Bersih (RM)\": 0.0}, {\"Nama Penuh\": \"Syazwan bin Ali\", \"No. Kad Pengenalan/Sijil Kelahiran\": \"SB566741\", \"Hubungan\": \"Nenek\", \"Umur\": 8, \"Status\": \"Sekolah Rendah/Menengah\", \"Kesihatan\": \"Sakit/Cacat\", \"Pendapatan Kasar (RM)\": 0.0, \"Pendapatan Bersih (RM)\": 0.0}]    1\n",
       "[{\"Nama Penuh\": \"Aminah binti binti Abdullah\", \"No. Kad Pengenalan/Sijil Kelahiran\": \"520907-22-9728\", \"Hubungan\": \"Suami\", \"Umur\": 72, \"Status\": \"Tidak Bekerja\", \"Kesihatan\": \"Sihat\", \"Pendapatan Kasar (RM)\": 0.0, \"Pendapatan Bersih (RM)\": 0.0}, {\"Nama Penuh\": \"Khairul bin Ali\", \"No. Kad Pengenalan/Sijil Kelahiran\": \"741104-22-6875\", \"Hubungan\": \"Bapa\", \"Umur\": 50, \"Status\": \"Bekerja\", \"Kesihatan\": \"Sihat\", \"Pendapatan Kasar (RM)\": 2887.57, \"Pendapatan Bersih (RM)\": 2705.71}, {\"Nama Penuh\": \"Ahmad bin Abdullah\", \"No. Kad Pengenalan/Sijil Kelahiran\": \"930313-57-1459\", \"Hubungan\": \"Isteri\", \"Umur\": 32, \"Status\": \"Suri Rumah\", \"Kesihatan\": \"Sihat\", \"Pendapatan Kasar (RM)\": 0.0, \"Pendapatan Bersih (RM)\": 0.0}, {\"Nama Penuh\": \"Fatimah binti Razak\", \"No. Kad Pengenalan/Sijil Kelahiran\": \"671001-46-9184\", \"Hubungan\": \"Datuk\", \"Umur\": 57, \"Status\": \"Suri Rumah\", \"Kesihatan\": \"Sihat\", \"Pendapatan Kasar (RM)\": 0.0, \"Pendapatan Bersih (RM)\": 0.0}]                                                                                                                                                                                                                                                                   1\n",
       "[{\"Nama Penuh\": \"Ng binti Jia Yi\", \"No. Kad Pengenalan/Sijil Kelahiran\": \"440524-55-4694\", \"Hubungan\": \"Datuk\", \"Umur\": 80, \"Status\": \"Tidak Bekerja (Warga Emas)\", \"Kesihatan\": \"Sihat\", \"Pendapatan Kasar (RM)\": 0.0, \"Pendapatan Bersih (RM)\": 0.0}]                                                                                                                                                                                                                                                                                                                                                                                                                                                                                                                                                                                                                                                                                                                                                                                                                                                                                                                                                                                                   1\n",
       "[{\"Nama Penuh\": \"Farah binti Abdullah\", \"No. Kad Pengenalan/Sijil Kelahiran\": \"630415-47-4314\", \"Hubungan\": \"Nenek\", \"Umur\": 62, \"Status\": \"Tidak Bekerja (Warga Emas)\", \"Kesihatan\": \"Sihat\", \"Pendapatan Kasar (RM)\": 0.0, \"Pendapatan Bersih (RM)\": 0.0}, {\"Nama Penuh\": \"Abdullah bin Ali\", \"No. Kad Pengenalan/Sijil Kelahiran\": \"650209-54-2189\", \"Hubungan\": \"Cucu\", \"Umur\": 60, \"Status\": \"Suri Rumah\", \"Kesihatan\": \"Sihat\", \"Pendapatan Kasar (RM)\": 0.0, \"Pendapatan Bersih (RM)\": 0.0}, {\"Nama Penuh\": \"Aishah binti Singh\", \"No. Kad Pengenalan/Sijil Kelahiran\": \"860416-44-6870\", \"Hubungan\": \"Ibu\", \"Umur\": 39, \"Status\": \"Bekerja\", \"Kesihatan\": \"Sihat\", \"Pendapatan Kasar (RM)\": 3336.78, \"Pendapatan Bersih (RM)\": 2846.39}]                                                                                                                                                                                                                                                                                                                                                                                                                                                                                                          1\n",
       "                                                                                                                                                                                                                                                                                                                                                                                                                                                                                                                                                                                                                                                                                                                                                                                                                                                                                                                                                                                                                                                                                                                                                                                                                                                         ..\n",
       "[{\"Nama Penuh\": \"Abdullah bin Ahmad\", \"No. Kad Pengenalan/Sijil Kelahiran\": \"820623-09-5877\", \"Hubungan\": \"Anak\", \"Umur\": 42, \"Status\": \"Suri Rumah\", \"Kesihatan\": \"Sihat\", \"Pendapatan Kasar (RM)\": 0.0, \"Pendapatan Bersih (RM)\": 0.0}, {\"Nama Penuh\": \"Khairul bin binti Abdullah\", \"No. Kad Pengenalan/Sijil Kelahiran\": \"901127-42-5541\", \"Hubungan\": \"Isteri\", \"Umur\": 34, \"Status\": \"Suri Rumah\", \"Kesihatan\": \"Sakit/Cacat\", \"Pendapatan Kasar (RM)\": 0.0, \"Pendapatan Bersih (RM)\": 0.0}, {\"Nama Penuh\": \"Chua bin Wei Lun\", \"No. Kad Pengenalan/Sijil Kelahiran\": \"680905-21-4801\", \"Hubungan\": \"Anak\", \"Umur\": 56, \"Status\": \"Suri Rumah\", \"Kesihatan\": \"Sihat\", \"Pendapatan Kasar (RM)\": 0.0, \"Pendapatan Bersih (RM)\": 0.0}, {\"Nama Penuh\": \"Muhammad bin bin Abdullah\", \"No. Kad Pengenalan/Sijil Kelahiran\": \"941124-07-7229\", \"Hubungan\": \"Tiada Kaitan\", \"Umur\": 30, \"Status\": \"Bekerja\", \"Kesihatan\": \"Sihat\", \"Pendapatan Kasar (RM)\": 2660.44, \"Pendapatan Bersih (RM)\": 2296.83}]                                                                                                                                                                                                                                                    1\n",
       "[{\"Nama Penuh\": \"Hafiz bin Ali\", \"No. Kad Pengenalan/Sijil Kelahiran\": \"791020-49-3503\", \"Hubungan\": \"Bapa\", \"Umur\": 45, \"Status\": \"Tidak Bekerja\", \"Kesihatan\": \"Sihat\", \"Pendapatan Kasar (RM)\": 0.0, \"Pendapatan Bersih (RM)\": 0.0}, {\"Nama Penuh\": \"Wong bin Wei Jie\", \"No. Kad Pengenalan/Sijil Kelahiran\": \"781107-57-7789\", \"Hubungan\": \"Anak\", \"Umur\": 46, \"Status\": \"Bekerja\", \"Kesihatan\": \"Sihat\", \"Pendapatan Kasar (RM)\": 2578.02, \"Pendapatan Bersih (RM)\": 2369.82}, {\"Nama Penuh\": \"Ahmad bin Khan\", \"No. Kad Pengenalan/Sijil Kelahiran\": \"800313-31-6573\", \"Hubungan\": \"Bapa\", \"Umur\": 45, \"Status\": \"Suri Rumah\", \"Kesihatan\": \"Sihat\", \"Pendapatan Kasar (RM)\": 0.0, \"Pendapatan Bersih (RM)\": 0.0}]                                                                                                                                                                                                                                                                                                                                                                                                                                                                                                                                  1\n",
       "[{\"Nama Penuh\": \"Fatimah binti Muhammad\", \"No. Kad Pengenalan/Sijil Kelahiran\": \"711025-24-8146\", \"Hubungan\": \"Isteri\", \"Umur\": 53, \"Status\": \"Tidak Bekerja\", \"Kesihatan\": \"Sihat\", \"Pendapatan Kasar (RM)\": 0.0, \"Pendapatan Bersih (RM)\": 0.0}, {\"Nama Penuh\": \"Syazwan bin Razak\", \"No. Kad Pengenalan/Sijil Kelahiran\": \"931202-55-1897\", \"Hubungan\": \"Abang\", \"Umur\": 31, \"Status\": \"Bekerja\", \"Kesihatan\": \"Sihat\", \"Pendapatan Kasar (RM)\": 1357.59, \"Pendapatan Bersih (RM)\": 1259.22}]                                                                                                                                                                                                                                                                                                                                                                                                                                                                                                                                                                                                                                                                                                                                                          1\n",
       "[{\"Nama Penuh\": \"Noraini binti bin Abdullah\", \"No. Kad Pengenalan/Sijil Kelahiran\": \"001121-14-9630\", \"Hubungan\": \"Nenek\", \"Umur\": 24, \"Status\": \"IPT/Kolej\", \"Kesihatan\": \"Sihat\", \"Pendapatan Kasar (RM)\": 0.0, \"Pendapatan Bersih (RM)\": 0.0}, {\"Nama Penuh\": \"Abdullah bin Ahmad\", \"No. Kad Pengenalan/Sijil Kelahiran\": \"610415-16-4531\", \"Hubungan\": \"Adik\", \"Umur\": 64, \"Status\": \"Suri Rumah\", \"Kesihatan\": \"Sakit/Cacat\", \"Pendapatan Kasar (RM)\": 0.0, \"Pendapatan Bersih (RM)\": 0.0}, {\"Nama Penuh\": \"Nur binti Razak\", \"No. Kad Pengenalan/Sijil Kelahiran\": \"SB350481\", \"Hubungan\": \"Tiada Kaitan\", \"Umur\": 11, \"Status\": \"Sekolah Rendah/Menengah\", \"Kesihatan\": \"Sihat\", \"Pendapatan Kasar (RM)\": 0.0, \"Pendapatan Bersih (RM)\": 0.0}, {\"Nama Penuh\": \"Azizah binti Muhammad\", \"No. Kad Pengenalan/Sijil Kelahiran\": \"970808-24-2796\", \"Hubungan\": \"Tiada Kaitan\", \"Umur\": 27, \"Status\": \"Tidak Bekerja\", \"Kesihatan\": \"Sihat\", \"Pendapatan Kasar (RM)\": 0.0, \"Pendapatan Bersih (RM)\": 0.0}]                                                                                                                                                                                                                                              1\n",
       "[{\"Nama Penuh\": \"Siti binti Khairul\", \"No. Kad Pengenalan/Sijil Kelahiran\": \"011014-49-5030\", \"Hubungan\": \"Anak\", \"Umur\": 23, \"Status\": \"Suri Rumah\", \"Kesihatan\": \"Sihat\", \"Pendapatan Kasar (RM)\": 0.0, \"Pendapatan Bersih (RM)\": 0.0}, {\"Nama Penuh\": \"Siti binti Singh\", \"No. Kad Pengenalan/Sijil Kelahiran\": \"080212-43-1586\", \"Hubungan\": \"Anak\", \"Umur\": 17, \"Status\": \"Sekolah Rendah/Menengah\", \"Kesihatan\": \"Sihat\", \"Pendapatan Kasar (RM)\": 0.0, \"Pendapatan Bersih (RM)\": 0.0}]                                                                                                                                                                                                                                                                                                                                                                                                                                                                                                                                                                                                                                                                                                                                                             1\n",
       "Name: count, Length: 12584, dtype: int64"
      ]
     },
     "execution_count": 7,
     "metadata": {},
     "output_type": "execute_result"
    }
   ],
   "source": [
    "df[\"Maklumat Isi Rumah\"].value_counts()"
   ]
  },
  {
   "cell_type": "code",
   "execution_count": 6,
   "id": "279c8527",
   "metadata": {},
   "outputs": [],
   "source": [
    "df.to_csv(\"labeled_data.csv\", index=False)"
   ]
  }
 ],
 "metadata": {
  "kernelspec": {
   "display_name": ".venv",
   "language": "python",
   "name": "python3"
  },
  "language_info": {
   "codemirror_mode": {
    "name": "ipython",
    "version": 3
   },
   "file_extension": ".py",
   "mimetype": "text/x-python",
   "name": "python",
   "nbconvert_exporter": "python",
   "pygments_lexer": "ipython3",
   "version": "3.12.2"
  }
 },
 "nbformat": 4,
 "nbformat_minor": 5
}
